{
 "cells": [
  {
   "cell_type": "code",
   "execution_count": 54,
   "id": "1ae25816",
   "metadata": {},
   "outputs": [],
   "source": [
    "# crie uma lista chamada filmes com o nome dos 10 primeiros filmes mais bem avaliados no site do IMDB. imprima o resultado. "
   ]
  },
  {
   "cell_type": "code",
   "execution_count": 55,
   "id": "c4129593",
   "metadata": {},
   "outputs": [],
   "source": [
    "filmes = ['seven: os sete crimes capitais', 'brilho eterno de uma mente sem lembranças', 'closer: perto demais','em algum lugar do passado', 'os outros', 'poltergeist: o fenômeno', 'matrix', 'os suspeitos','o bebê de rosemary', 'o sexto sentido' ]"
   ]
  },
  {
   "cell_type": "code",
   "execution_count": 56,
   "id": "5d1eec5b",
   "metadata": {
    "scrolled": true
   },
   "outputs": [
    {
     "name": "stdout",
     "output_type": "stream",
     "text": [
      "['seven: os sete crimes capitais', 'brilho eterno de uma mente sem lembranças', 'closer: perto demais', 'em algum lugar do passado', 'os outros', 'poltergeist: o fenômeno', 'matrix', 'os suspeitos', 'o bebê de rosemary', 'o sexto sentido']\n"
     ]
    }
   ],
   "source": [
    "print(filmes)"
   ]
  },
  {
   "cell_type": "code",
   "execution_count": 57,
   "id": "7cda4047",
   "metadata": {},
   "outputs": [],
   "source": [
    "# simule a movimentação do ranking. utilize os métodos insert e pop para trocar a posição do primeiro e do segundo filme da lista. imprima o resultado."
   ]
  },
  {
   "cell_type": "code",
   "execution_count": 58,
   "id": "dc33de03",
   "metadata": {},
   "outputs": [],
   "source": [
    "filmes.insert(0, 'brilho eterno de uma mente sem lembranças')"
   ]
  },
  {
   "cell_type": "code",
   "execution_count": 59,
   "id": "1d7b0588",
   "metadata": {},
   "outputs": [
    {
     "name": "stdout",
     "output_type": "stream",
     "text": [
      "['brilho eterno de uma mente sem lembranças', 'seven: os sete crimes capitais', 'brilho eterno de uma mente sem lembranças', 'closer: perto demais', 'em algum lugar do passado', 'os outros', 'poltergeist: o fenômeno', 'matrix', 'os suspeitos', 'o bebê de rosemary', 'o sexto sentido']\n"
     ]
    }
   ],
   "source": [
    "print(filmes)"
   ]
  },
  {
   "cell_type": "code",
   "execution_count": 60,
   "id": "32ee2442",
   "metadata": {},
   "outputs": [
    {
     "data": {
      "text/plain": [
       "'brilho eterno de uma mente sem lembranças'"
      ]
     },
     "execution_count": 60,
     "metadata": {},
     "output_type": "execute_result"
    }
   ],
   "source": [
    "filmes.pop(2)"
   ]
  },
  {
   "cell_type": "code",
   "execution_count": 61,
   "id": "dae7f04d",
   "metadata": {},
   "outputs": [
    {
     "name": "stdout",
     "output_type": "stream",
     "text": [
      "['brilho eterno de uma mente sem lembranças', 'seven: os sete crimes capitais', 'closer: perto demais', 'em algum lugar do passado', 'os outros', 'poltergeist: o fenômeno', 'matrix', 'os suspeitos', 'o bebê de rosemary', 'o sexto sentido']\n"
     ]
    }
   ],
   "source": [
    "print(filmes)"
   ]
  },
  {
   "cell_type": "code",
   "execution_count": 62,
   "id": "e1cff0bc",
   "metadata": {},
   "outputs": [],
   "source": [
    "filmes.append('os suspeitos')"
   ]
  },
  {
   "cell_type": "code",
   "execution_count": 63,
   "id": "8dcc0d62",
   "metadata": {},
   "outputs": [],
   "source": [
    "# aconteceu um erro no seu ranking. simule a duplicação dos três ultimos filmes da lista. imprima o resultado.\n"
   ]
  },
  {
   "cell_type": "code",
   "execution_count": 64,
   "id": "427ffe5a",
   "metadata": {},
   "outputs": [],
   "source": [
    "filmes.append('o bebê de rosemary')"
   ]
  },
  {
   "cell_type": "code",
   "execution_count": 65,
   "id": "5fa7ebae",
   "metadata": {},
   "outputs": [],
   "source": [
    "filmes.append('o sexto sentido')"
   ]
  },
  {
   "cell_type": "code",
   "execution_count": 66,
   "id": "2f6b47a2",
   "metadata": {
    "scrolled": true
   },
   "outputs": [
    {
     "name": "stdout",
     "output_type": "stream",
     "text": [
      "['brilho eterno de uma mente sem lembranças', 'seven: os sete crimes capitais', 'closer: perto demais', 'em algum lugar do passado', 'os outros', 'poltergeist: o fenômeno', 'matrix', 'os suspeitos', 'o bebê de rosemary', 'o sexto sentido', 'os suspeitos', 'o bebê de rosemary', 'o sexto sentido']\n"
     ]
    }
   ],
   "source": [
    "print(filmes)"
   ]
  },
  {
   "cell_type": "code",
   "execution_count": 68,
   "id": "f9058a52",
   "metadata": {},
   "outputs": [],
   "source": [
    "filmes = list(set(filmes))"
   ]
  },
  {
   "cell_type": "code",
   "execution_count": 69,
   "id": "7ecbe959",
   "metadata": {},
   "outputs": [
    {
     "name": "stdout",
     "output_type": "stream",
     "text": [
      "['closer: perto demais', 'os suspeitos', 'matrix', 'o sexto sentido', 'brilho eterno de uma mente sem lembranças', 'em algum lugar do passado', 'o bebê de rosemary', 'seven: os sete crimes capitais', 'poltergeist: o fenômeno', 'os outros']\n"
     ]
    }
   ],
   "source": [
    "print(filmes)"
   ]
  },
  {
   "cell_type": "code",
   "execution_count": null,
   "id": "211a5746",
   "metadata": {},
   "outputs": [],
   "source": [
    "#Utiliza a conversão set e list para remover os valores duplicados. Imprima o resultado."
   ]
  },
  {
   "cell_type": "code",
   "execution_count": 15,
   "id": "ca82f462",
   "metadata": {},
   "outputs": [],
   "source": [
    "#repita os exercícios da parte 1. os elementos da lista filmes devem ser dicionários no seguinte formato: {'nome': <nome-do-filme>, 'ano': <ano do filme>},\n",
    "#'sinopse': <sinopse do filme>}"
   ]
  },
  {
   "cell_type": "code",
   "execution_count": 47,
   "id": "2d893b7d",
   "metadata": {},
   "outputs": [],
   "source": [
    "filmes = {\n",
    "    'nome': 'seven os sete crimes capitais',\n",
    "       'ano': 1995,\n",
    "            'sinopse': 'Two detectives, a rookie and a veteran, hunt a serial killer who uses the seven deadly sins as his motives.',\n",
    "    'nome1':'brilho eterno de uma mente sem lembranças', \n",
    "        'ano1': 2004,\n",
    "            'sinopse1':'When their relationship turns sour, a couple undergoes a medical procedure to have each other erased from their memories.',\n",
    "    'nome2': 'closer: perto demais',\n",
    "        'ano2': 2004,\n",
    "            'sinopse3':'The relationships of two couples become complicated and deceitful when the man from one couple meets the woman of the other.',\n",
    "    'nome3': 'em algum lugar do passado',\n",
    "        'ano3': 1980,\n",
    "            'sinopse': 'A Chicago playwright uses self-hypnosis to travel back in time and meet the actress whose vintage portrait hangs in a grand hotel.',\n",
    "    'nome4': 'os outros',\n",
    "        'ano4': 2001,\n",
    "            'sinopse': 'A woman who lives in her darkened old family house with her two photosensitive children becomes convinced that the home is haunted.',\n",
    "    'nome5': 'poltergeist: o fenômeno',\n",
    "        'ano5': 1982,\n",
    "            'sinopse': 'A familys home is haunted by a host of demonic ghosts.',\n",
    "    'nome6': 'matrix',\n",
    "        'ano6': 1999,\n",
    "            'sinopse': 'When a beautiful stranger leads computer hacker Neo to a forbidding underworld, he discovers the shocking truth--the life he knows is the elaborate deception of an evil cyber-intelligence.',\n",
    "    'nome7': 'os suspeitos',\n",
    "        'ano7': 1995,\n",
    "            'sinopse':'A sole survivor tells of the twisty events leading up to a horrific gun battle on a boat, which began when five criminals met at a seemingly random police lineup.',\n",
    "    'nome8': 'o bebê de rosemary',\n",
    "        'ano8': 1968,\n",
    "            'sinopse': 'A young couple trying for a baby move into an aging, ornate apartment building on Central Park West, but find themselves surrounded by peculiar neighbors.',\n",
    "    'nome9': 'o sexto sentido',\n",
    "        'ano9': 1999,\n",
    "            'sinopse': 'A frightened, withdrawn Philadelphia boy who communicates with spirits seeks the help of a disheartened child psychologist.'\n",
    "     }\n"
   ]
  },
  {
   "cell_type": "code",
   "execution_count": 48,
   "id": "0bb52f40",
   "metadata": {},
   "outputs": [
    {
     "name": "stdout",
     "output_type": "stream",
     "text": [
      "{'nome': 'seven os sete crimes capitais', 'ano': 1995, 'sinopse': 'A frightened, withdrawn Philadelphia boy who communicates with spirits seeks the help of a disheartened child psychologist.', 'nome1': 'brilho eterno de uma mente sem lembranças', 'ano1': 2004, 'sinopse1': 'When their relationship turns sour, a couple undergoes a medical procedure to have each other erased from their memories.', 'nome2': 'closer: perto demais', 'ano2': 2004, 'sinopse3': 'The relationships of two couples become complicated and deceitful when the man from one couple meets the woman of the other.', 'nome3': 'em algum lugar do passado', 'ano3': 1980, 'nome4': 'os outros', 'ano4': 2001, 'nome5': 'poltergeist: o fenômeno', 'ano5': 1982, 'nome6': 'matrix', 'ano6': 1999, 'nome7': 'os suspeitos', 'ano7': 1995, 'nome8': 'o bebê de rosemary', 'ano8': 1968, 'nome9': 'o sexto sentido', 'ano9': 1999}\n"
     ]
    }
   ],
   "source": [
    "print(filmes)"
   ]
  },
  {
   "cell_type": "code",
   "execution_count": 49,
   "id": "31c2be15",
   "metadata": {},
   "outputs": [
    {
     "name": "stdout",
     "output_type": "stream",
     "text": [
      "<class 'dict'>\n"
     ]
    }
   ],
   "source": [
    "print(type(filmes))"
   ]
  }
 ],
 "metadata": {
  "kernelspec": {
   "display_name": "Python 3",
   "language": "python",
   "name": "python3"
  },
  "language_info": {
   "codemirror_mode": {
    "name": "ipython",
    "version": 3
   },
   "file_extension": ".py",
   "mimetype": "text/x-python",
   "name": "python",
   "nbconvert_exporter": "python",
   "pygments_lexer": "ipython3",
   "version": "3.8.8"
  }
 },
 "nbformat": 4,
 "nbformat_minor": 5
}
