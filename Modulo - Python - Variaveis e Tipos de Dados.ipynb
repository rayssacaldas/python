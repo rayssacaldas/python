{
  "nbformat": 4,
  "nbformat_minor": 0,
  "metadata": {
    "colab": {
      "name": "modulo_1_exercicios.ipynb",
      "provenance": [],
      "toc_visible": true
    },
    "kernelspec": {
      "name": "python3",
      "display_name": "Python 3"
    }
  },
  "cells": [
    {
      "cell_type": "markdown",
      "metadata": {
        "id": "KJqp9AANOCtf"
      },
      "source": [
        "<img src=\"https://raw.githubusercontent.com/andre-marcos-perez/ebac-course-utils/main/media/logo/newebac_logo_black_half.png\" alt=\"ebac-logo\">\n",
        "\n",
        "---\n",
        "\n",
        "# **Módulo 01** | Python: Variáveis & Tipos de Dados\n",
        "Caderno de **Exercícios**<br> \n",
        "Professor [André Perez](https://www.linkedin.com/in/andremarcosperez/)\n",
        "\n",
        "---"
      ]
    },
    {
      "cell_type": "markdown",
      "metadata": {
        "id": "d9jDtUbDOE1-"
      },
      "source": [
        "# **Tópicos**\n",
        "\n",
        "<ol type=\"1\">\n",
        "  <li>Introdução ao Google Colab;</li>\n",
        "  <li>Variáveis;</li>\n",
        "  <li>Números;</li>\n",
        "  <li><i>Strings;</i></li>\n",
        "  <li>Boleanos.</li>\n",
        "</ol>"
      ]
    },
    {
      "cell_type": "markdown",
      "metadata": {
        "id": "SmoHgt-lwkpD"
      },
      "source": [
        "---"
      ]
    },
    {
      "cell_type": "markdown",
      "metadata": {
        "id": "GABI6OW8OfQ2"
      },
      "source": [
        "# **Exercícios**"
      ]
    },
    {
      "cell_type": "markdown",
      "metadata": {
        "id": "muD1vxozykSC"
      },
      "source": [
        "## 1\\. Google Colab"
      ]
    },
    {
      "cell_type": "code",
      "metadata": {
        "colab": {
          "base_uri": "https://localhost:8080/"
        },
        "id": "7xfmHXv5pV3y",
        "outputId": "e7fa18d1-6dd8-4b25-d3f8-490508f39a19"
      },
      "source": [
        "print('Olá, mundo!')"
      ],
      "execution_count": null,
      "outputs": [
        {
          "output_type": "stream",
          "text": [
            "Olá, mundo!\n"
          ],
          "name": "stdout"
        }
      ]
    },
    {
      "cell_type": "markdown",
      "metadata": {
        "id": "ahrFfCuBxJKs"
      },
      "source": [
        "Crie uma célula de código que escreva o texto \"Olá mundo!\", utilize o comando `print`."
      ]
    },
    {
      "cell_type": "markdown",
      "metadata": {
        "id": "KI9zQRT2xa7m"
      },
      "source": [
        "Crie uma célua de texto e adicione uma imagem."
      ]
    },
    {
      "cell_type": "markdown",
      "metadata": {
        "id": "cAgxzmxdrKEv"
      },
      "source": [
        "![pp.jpg](data:image/jpeg;base64,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)"
      ]
    },
    {
      "cell_type": "markdown",
      "metadata": {
        "id": "zMN1Q3jdwoJm"
      },
      "source": [
        "---"
      ]
    },
    {
      "cell_type": "markdown",
      "metadata": {
        "id": "tFYOPLS3xiwe"
      },
      "source": [
        "## 2\\. Números"
      ]
    },
    {
      "cell_type": "markdown",
      "metadata": {
        "id": "O2G9gt7tx2c-"
      },
      "source": [
        "Preencha as células de código para preencher os valores de (A), (B) e (C) na tabela de ticket médio abaixo:\n",
        "\n",
        "<br>\n",
        "\n",
        "| Dia   | Valor Total Vendas | Qtd Total Vendas | Ticket Medio |\n",
        "|-------|--------------------|------------------|--------------|\n",
        "| 19/01 | (A)                | 3                | 320.52       |\n",
        "| 20/01 | 834.47             | (B)              | 119.21       |\n",
        "| 23/01 | 15378.12           | 5                | (C)          |"
      ]
    },
    {
      "cell_type": "code",
      "metadata": {
        "id": "nsrKH9EizNRD",
        "colab": {
          "base_uri": "https://localhost:8080/"
        },
        "outputId": "84549eb8-4b39-4946-bae2-314f96ed8eb3"
      },
      "source": [
        "# (A)\n",
        "valor_total_vendas=qtd_total_vendas*ticket_medio\n",
        "qtd_total_vendas=3\n",
        "ticket_medio=320.52\n",
        "print(valor_total_vendas)"
      ],
      "execution_count": 49,
      "outputs": [
        {
          "output_type": "stream",
          "text": [
            "834.47\n"
          ],
          "name": "stdout"
        }
      ]
    },
    {
      "cell_type": "code",
      "metadata": {
        "id": "QQ1GBGHJzMmi",
        "colab": {
          "base_uri": "https://localhost:8080/"
        },
        "outputId": "55c16641-acf4-4bfb-8bd9-2e7939e2d942"
      },
      "source": [
        "# (B)\n",
        "qtd_total_vendas=valor_total_vendas/ticket_medio\n",
        "valor_total_vendas=834.47\n",
        "ticket_medio=119.21\n",
        "print(qtd_total_vendas)"
      ],
      "execution_count": 51,
      "outputs": [
        {
          "output_type": "stream",
          "text": [
            "7.000000000000001\n"
          ],
          "name": "stdout"
        }
      ]
    },
    {
      "cell_type": "code",
      "metadata": {
        "id": "W-li0nSMzKNa",
        "colab": {
          "base_uri": "https://localhost:8080/"
        },
        "outputId": "763bd68b-e889-4eea-9532-899d97932c1b"
      },
      "source": [
        "# (C)\n",
        "ticket_medio=valor_total_vendas/qtd_total_vendas\n",
        "valor_total_vendas=15378.12\n",
        "qtd_total_vendas=5\n",
        "print(ticket_medio)\n"
      ],
      "execution_count": 54,
      "outputs": [
        {
          "output_type": "stream",
          "text": [
            "3075.6240000000003\n"
          ],
          "name": "stdout"
        }
      ]
    },
    {
      "cell_type": "markdown",
      "metadata": {
        "id": "3eoP-Vj9yzh8"
      },
      "source": [
        "---"
      ]
    },
    {
      "cell_type": "markdown",
      "metadata": {
        "id": "yUJ6kdony6Pr"
      },
      "source": [
        "## 3\\. Strings"
      ]
    },
    {
      "cell_type": "markdown",
      "metadata": {
        "id": "KDuZpg-5zCvO"
      },
      "source": [
        "Aplique três métodos distintos na *string* abaixo, você pode conferir alguns métodos neste [link](https://www.w3schools.com/python/python_ref_string.asp):"
      ]
    },
    {
      "cell_type": "code",
      "metadata": {
        "id": "k9zbyf7BzjKj",
        "colab": {
          "base_uri": "https://localhost:8080/"
        },
        "outputId": "bff6991b-7875-4dc0-89af-8e32e1b53379"
      },
      "source": [
        "cancao='Roda mundo, roda gigante, roda moinho, roda pião.'\n",
        "maiusculo=cancao.upper()\n",
        "print(maiusculo)\n",
        "\n",
        "title=cancao.title()\n",
        "print(title)\n",
        "\n",
        "posicao=cancao.find('roda')\n",
        "print(posicao)"
      ],
      "execution_count": 45,
      "outputs": [
        {
          "output_type": "stream",
          "text": [
            "RODA MUNDO, RODA GIGANTE, RODA MOINHO, RODA PIÃO.\n",
            "Roda Mundo, Roda Gigante, Roda Moinho, Roda Pião.\n",
            "12\n"
          ],
          "name": "stdout"
        }
      ]
    },
    {
      "cell_type": "markdown",
      "metadata": {
        "id": "guZMHXVq0FnC"
      },
      "source": [
        "Extraia da string abaixo o valor da taxa **selic** na variável `selic` e o valor do **ano** na variavel `ano`. Imprima os valores na tela."
      ]
    },
    {
      "cell_type": "code",
      "metadata": {
        "id": "cbx_P4IQ0agK",
        "colab": {
          "base_uri": "https://localhost:8080/"
        },
        "outputId": "afbded2c-4eba-49e3-f354-35ef4adbfbca"
      },
      "source": [
        "noticia = 'Selic vai a 2,75% e supera expectativas; é a primeira alta em 6 anos.'\n",
        "selic=noticia[12:17]\n",
        "print(selic)\n",
        "\n",
        "ano=noticia[-7:-1]\n",
        "print(ano)\n"
      ],
      "execution_count": 74,
      "outputs": [
        {
          "output_type": "stream",
          "text": [
            "2,75%\n",
            "6 anos\n"
          ],
          "name": "stdout"
        }
      ]
    },
    {
      "cell_type": "markdown",
      "metadata": {
        "id": "wWzbu-OC0z3L"
      },
      "source": [
        "---"
      ]
    },
    {
      "cell_type": "markdown",
      "metadata": {
        "id": "no8w_Ati01xP"
      },
      "source": [
        "## 4\\. Booleanos"
      ]
    },
    {
      "cell_type": "markdown",
      "metadata": {
        "id": "D_0tC3SC099N"
      },
      "source": [
        "Utilize a tabela da verdade para responder: qual o valor da variável x?"
      ]
    },
    {
      "cell_type": "code",
      "metadata": {
        "id": "XwIEbxf91SpU",
        "colab": {
          "base_uri": "https://localhost:8080/"
        },
        "outputId": "1f2474d9-792e-45a0-9b30-3c0c7c00dc82"
      },
      "source": [
        "a = False\n",
        "b = True\n",
        "\n",
        "x = not a & b\n",
        "\n",
        "print(not a)\n",
        "print(not b)\n",
        "\n",
        "print(a & b)"
      ],
      "execution_count": 60,
      "outputs": [
        {
          "output_type": "stream",
          "text": [
            "True\n",
            "False\n",
            "False\n"
          ],
          "name": "stdout"
        }
      ]
    }
  ]
}